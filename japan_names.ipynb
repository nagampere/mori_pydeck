{
 "cells": [
  {
   "cell_type": "code",
   "execution_count": 14,
   "id": "4e4fc981",
   "metadata": {},
   "outputs": [],
   "source": [
    "import geopandas as gpd\n",
    "from shapely.geometry import MultiPolygon, Polygon"
   ]
  },
  {
   "cell_type": "code",
   "execution_count": 19,
   "id": "12c22ecc",
   "metadata": {},
   "outputs": [],
   "source": [
    "def get_largest_polygon_centroid(geometry):\n",
    "    \"\"\"\n",
    "    マルチポリゴンが与えられたとき、最大のポリゴンを抽出してその中心座標を返す。\n",
    "    単一ポリゴンのときはそのまま中心を返す。\n",
    "    \"\"\"\n",
    "    if isinstance(geometry, MultiPolygon):\n",
    "        largest = max(geometry.geoms, key=lambda g: g.area)\n",
    "        return largest\n",
    "    elif isinstance(geometry, Polygon):\n",
    "        return geometry\n",
    "    else:\n",
    "        return None"
   ]
  },
  {
   "cell_type": "code",
   "execution_count": null,
   "id": "f1cb5364",
   "metadata": {},
   "outputs": [
    {
     "name": "stderr",
     "output_type": "stream",
     "text": [
      "/var/folders/n8/hsdz4y190lq8pdxjq6glz6pc0000gn/T/ipykernel_45858/933636664.py:6: UserWarning: Geometry is in a geographic CRS. Results from 'buffer' are likely incorrect. Use 'GeoSeries.to_crs()' to re-project geometries to a projected CRS before this operation.\n",
      "\n",
      "  gdf_pref[\"geometry\"] = gdf_pref.geometry.buffer(0.000001)  # バッファを適用してジオメトリを修正\n"
     ]
    }
   ],
   "source": [
    "# GeoDataFrameとして読み込み\n",
    "gdf = gpd.read_file(\"japan_ver85/japan_ver85.shp\")\n",
    "\n",
    "# GeoDataFrameを都道府県ごとにdissolve\n",
    "gdf_pref = gdf.dissolve(by=\"KEN\", as_index=False)\n",
    "gdf_pref[\"geometry\"] = gdf_pref.geometry.buffer(0.000001)  # バッファを適用してジオメトリを修正\n",
    "# JCODEの上2桁を抽出してIDを作成\n",
    "gdf_pref['ID'] = gdf_pref['JCODE'].str[:2]\n",
    "# マルチポリゴンから最も大きいポリゴンを選択し、そのポリゴンの中心座標を取得\n",
    "gdf_pref['single_geometry'] = gdf_pref[\"geometry\"].apply(get_largest_polygon_centroid)\n",
    "gdf_pref['centroid'] = gdf_pref['single_geometry'].to_crs('EPSG:6677').centroid.to_crs('EPSG:6668')\n",
    "gdf_pref['lat'] = gdf_pref['centroid'].y\n",
    "gdf_pref['lon'] = gdf_pref['centroid'].x\n",
    "# 緯度経度の座標を文字列として保存\n",
    "# gdf_pref['coordinates'] = gdf_pref.apply(lambda row: f\"[{row['lon']}, {row['lat']}]\", axis=1)"
   ]
  },
  {
   "cell_type": "code",
   "execution_count": 47,
   "id": "bbd1a56a",
   "metadata": {},
   "outputs": [],
   "source": [
    "prefecture_translation = {\n",
    "    \"北海道\":\"Hokkaido\",\n",
    "    \"青森県\":\"Aomori\",\n",
    "    \"岩手県\":\"Iwate\",\n",
    "    \"宮城県\":\"Miyagi\",\n",
    "    \"秋田県\":\"Akita\",\n",
    "    \"山形県\":\"Yamagata\",\n",
    "    \"福島県\":\"Fukushima\",\n",
    "    \"茨城県\":\"Ibaraki\",\n",
    "    \"栃木県\":\"Tochigi\",\n",
    "    \"群馬県\":\"Gunma\",\n",
    "    \"埼玉県\":\"Saitama\",\n",
    "    \"千葉県\":\"Chiba\",\n",
    "    \"東京都\":\"Tokyo\",\n",
    "    \"神奈川県\":\"Kanagawa\",\n",
    "    \"新潟県\":\"Niigata\",\n",
    "    \"富山県\":\"Toyama\",\n",
    "    \"石川県\":\"Ishikawa\",\n",
    "    \"福井県\":\"Fukui\",\n",
    "    \"山梨県\":\"Yamanashi\",\n",
    "    \"長野県\":\"Nagano\",\n",
    "    \"岐阜県\":\"Gifu\",\n",
    "    \"静岡県\":\"Shizuoka\",\n",
    "    \"愛知県\":\"Aichi\",\n",
    "    \"三重県\":\"Mie\",\n",
    "    \"滋賀県\":\"Shiga\",\n",
    "    \"京都府\":\"Kyoto\",\n",
    "    \"大阪府\":\"Osaka\",\n",
    "    \"兵庫県\":\"Hyogo\",\n",
    "    \"奈良県\":\"Nara\",\n",
    "    \"和歌山県\":\"Wakayama\",\n",
    "    \"鳥取県\":\"Tottori\",\n",
    "    \"島根県\":\"Shimane\",\n",
    "    \"岡山県\":\"Okayama\",\n",
    "    \"広島県\":\"Hiroshima\",\n",
    "    \"山口県\":\"Yamaguchi\",\n",
    "    \"徳島県\":\"Tokushima\",\n",
    "    \"香川県\":\"Kagawa\",\n",
    "    \"愛媛県\":\"Ehime\",\n",
    "    \"高知県\":\"Kochi\",\n",
    "    \"福岡県\":\"Fukuoka\",\n",
    "    \"佐賀県\":\"Saga\",\n",
    "    \"長崎県\":\"Nagasaki\",\n",
    "    \"熊本県\":\"Kumamoto\",\n",
    "    \"大分県\":\"Oita\",\n",
    "    \"宮崎県\":\"Miyazaki\",\n",
    "    \"鹿児島県\":\"Kagoshima\",\n",
    "    \"沖縄県\":\"Okinawa\"\n",
    "}"
   ]
  },
  {
   "cell_type": "code",
   "execution_count": 48,
   "id": "72aa936c",
   "metadata": {},
   "outputs": [],
   "source": [
    "# 都道府県名を英語に変換\n",
    "gdf_pref[\"KEN_EN\"] = gdf_pref[\"KEN\"].map(prefecture_translation)\n",
    "# gdf_prefの列を抽出し、IDの順番に並べ替え\n",
    "gdf_pref = gdf_pref[['ID', 'KEN', 'KEN_EN', 'lat', 'lon', 'geometry']].sort_values(by='ID', ascending=True, ignore_index=True)\n",
    "\n",
    "# gdf_prefをGeoJSON形式で保存\n",
    "gdf_pref.to_file(\"japan_prefectures.geojson\", driver='GeoJSON')"
   ]
  },
  {
   "cell_type": "code",
   "execution_count": 50,
   "id": "3f75c16c",
   "metadata": {},
   "outputs": [
    {
     "name": "stderr",
     "output_type": "stream",
     "text": [
      "/var/folders/n8/hsdz4y190lq8pdxjq6glz6pc0000gn/T/ipykernel_45858/2055213108.py:12: UserWarning: Geometry is in a geographic CRS. Results from 'buffer' are likely incorrect. Use 'GeoSeries.to_crs()' to re-project geometries to a projected CRS before this operation.\n",
      "\n",
      "  gdf_city[\"geometry\"] = gdf_city.geometry.buffer(0.000001)  # バッファを適用してジオメトリを修正\n"
     ]
    }
   ],
   "source": [
    "# GeoDataFrameとして読み込み\n",
    "gdf_city = gdf.copy()\n",
    "\n",
    "# SIKUCHOSONが所属不明地の場合は除外\n",
    "gdf_city = gdf_city[gdf_city['SIKUCHOSON'] != '所属不明地']\n",
    "# SEIREIがない場合はSIKUCHOSON、ある場合はSEIREIであるNAMEを作成\n",
    "gdf_city['NAME'] = gdf_city.apply(lambda row: row['SEIREI'] if row['SEIREI'] else row['SIKUCHOSON'], axis=1)\n",
    "# CITY_ENGから、最初のハイフン(-)までの文字列を抽出してNAME_ENを作成\n",
    "gdf_city['NAME_EN'] = gdf_city['CITY_ENG'].str.split('-').str[0]\n",
    "# NAMEとNAME_ENでdissolve\n",
    "gdf_city = gdf_city.dissolve(by=['NAME', 'NAME_EN'], as_index=False, aggfunc='first')\n",
    "gdf_city[\"geometry\"] = gdf_city.geometry.buffer(0.000001)  # バッファを適用してジオメトリを修正\n",
    "# JCODEの順番に並べ替え\n",
    "gdf_city = gdf_city.sort_values(by='JCODE', ascending=True, ignore_index=True)\n",
    "\n",
    "# マルチポリゴンから最も大きいポリゴンを選択し、そのポリゴンの中心座標を取得\n",
    "gdf_city['single_geometry'] = gdf_city['geometry'].apply(get_largest_polygon_centroid)\n",
    "gdf_city['centroid'] = gdf_city['geometry'].to_crs('EPSG:6677').centroid.to_crs('EPSG:6668')\n",
    "gdf_city['lat'] = gdf_city['centroid'].y\n",
    "gdf_city['lon'] = gdf_city['centroid'].x\n",
    "# 緯度経度の座標を文字列として保存\n",
    "# gdf_city['coordinates'] = gdf_city.apply(lambda row: f\"[{row['lon']}, {row['lat']}]\", axis=1)\n",
    "\n",
    "# ID, NAME, NAME_EN, lat, lon, geometryの列を抽出\n",
    "gdf_city = gdf_city[['JCODE', 'NAME', 'NAME_EN', 'lat', 'lon', 'geometry']].rename(columns={'JCODE': 'ID'})\n",
    "\n",
    "# gdf_cityをCSV, GeoJSON形式で保存\n",
    "gdf_city.to_file(\"japan_cities.geojson\", driver='GeoJSON')\n"
   ]
  },
  {
   "cell_type": "code",
   "execution_count": null,
   "id": "78c9ab65",
   "metadata": {},
   "outputs": [],
   "source": []
  },
  {
   "cell_type": "code",
   "execution_count": null,
   "id": "c47dcb55",
   "metadata": {},
   "outputs": [],
   "source": []
  },
  {
   "cell_type": "code",
   "execution_count": null,
   "id": "4bde7c8d",
   "metadata": {},
   "outputs": [],
   "source": []
  }
 ],
 "metadata": {
  "kernelspec": {
   "display_name": ".venv",
   "language": "python",
   "name": "python3"
  },
  "language_info": {
   "codemirror_mode": {
    "name": "ipython",
    "version": 3
   },
   "file_extension": ".py",
   "mimetype": "text/x-python",
   "name": "python",
   "nbconvert_exporter": "python",
   "pygments_lexer": "ipython3",
   "version": "3.12.7"
  }
 },
 "nbformat": 4,
 "nbformat_minor": 5
}
