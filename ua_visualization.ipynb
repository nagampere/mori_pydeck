{
 "cells": [
  {
   "cell_type": "markdown",
   "metadata": {},
   "source": [
    "# 外部moduleと関数の読み込み"
   ]
  },
  {
   "cell_type": "code",
   "execution_count": 6,
   "metadata": {},
   "outputs": [],
   "source": [
    "# python version: 3.11.3\n",
    "import pandas as pd\n",
    "import geopandas as gpd\n",
    "from keplergl import KeplerGl"
   ]
  },
  {
   "cell_type": "markdown",
   "metadata": {},
   "source": [
    "# データの読み込み\n",
    "\n",
    "4つフォルダあり：\n",
    "- intermediate = 社人研中位推計の下での予測\n",
    "- pessimistic = 低位推計\n",
    "- optimistic = 高位推計 (これは都市のシェープしか求めていない)\n",
    "- location = 1kmメッシュのshapefile, 海岸線のshapefile\n",
    "\n",
    "---\n",
    "\n",
    "intermediateとpessimisticフォルダには、、YEAR=1970, 1975, ..., 2200について以下のファイルがある：\n",
    "- ua_1000_minpop_10000_1970-2200.shp -- 都市(UA)のシェープ\n",
    "- mesh3_pop_1970-2200.csv -- 1kmメッシュ(CELL_ID)レベルの人口(POP)\n",
    "- ua_cells_prediction_1970-2200.csv -- UAに含まれる1kmメッシュ\n",
    "- ua_pop-prediction_1970-2200.csv -- UAの人口(POP) -- (1)のcsvデータ\n",
    "---\n",
    "locationフォルダには\n",
    "- coastline_jp_albers_JGD2011_rev.shp -- 海岸線ポリゴン\n",
    "- mesh3_contiguous_with_elv_albers_JGD2011.shp -- 1kmメッシュポリゴン (予測対象のみ, i.e., 本州か北海道と道路でつながっている1kmメッシュ)"
   ]
  },
  {
   "cell_type": "code",
   "execution_count": 7,
   "metadata": {},
   "outputs": [
    {
     "name": "stderr",
     "output_type": "stream",
     "text": [
      "/Users/nagampere/Documents/Lab_Kobe/Others/mori_pydeck/.venv/lib/python3.11/site-packages/pyogrio/raw.py:198: RuntimeWarning: v46/location/mesh3_contiguous_with_elv_albers_JGD2011.shp contains polygon(s) with rings with invalid winding order. Autocorrecting them, but that shapefile should be corrected using ogr2ogr for example.\n",
      "  return ogr_read(\n"
     ]
    }
   ],
   "source": [
    "gdf_ua = gpd.read_file(\"v46/intermediate/ua_1000_minpop_10000_1970-2200.shp\")\n",
    "df_mesh3 = pd.read_csv(\"v46/intermediate/mesh3_pop_1970-2200.csv\")\n",
    "df_cells = pd.read_csv(\"v46/intermediate/ua_cells_prediction_1970-2200.csv\")\n",
    "df_pop = pd.read_csv(\"v46/intermediate/ua_pop-prediction_1970-2200.csv\")\n",
    "\n",
    "gdf_coast = gpd.read_file(\"v46/location/coastline_jp_albers_JGD2011_rev.shp\")\n",
    "gdf_mesh = gpd.read_file(\"v46/location/mesh3_contiguous_with_elv_albers_JGD2011.shp\")\n"
   ]
  },
  {
   "cell_type": "code",
   "execution_count": 9,
   "metadata": {},
   "outputs": [],
   "source": [
    "# gdf_uaのua列のユニークごとに色が変わるように、.explore()で可視化\n",
    "# gdf_ua[\"UA\"] = gdf_ua[\"UA\"].astype(str)\n",
    "# gdf_ua.query(\"YEAR == 2020\").explore(\n",
    "#     column=\"UA\",  # make choropleth based on \"BoroName\" column\n",
    "#     # tooltip=\"UA\",  # show \"BoroName\" value in tooltip (on hover)\n",
    "#     # popup=True,  # show all values in popup (on click)\n",
    "#     # tiles=\"CartoDB positron\",  # use \"CartoDB positron\" tiles\n",
    "#     cmap=\"gist_rainbow\",  # use \"Set1\" matplotlib colormap\n",
    "#     style_kwds=dict(color=\"black\"),  # use black outline\n",
    "# )"
   ]
  },
  {
   "cell_type": "code",
   "execution_count": null,
   "metadata": {},
   "outputs": [],
   "source": []
  }
 ],
 "metadata": {
  "kernelspec": {
   "display_name": ".venv",
   "language": "python",
   "name": "python3"
  },
  "language_info": {
   "codemirror_mode": {
    "name": "ipython",
    "version": 3
   },
   "file_extension": ".py",
   "mimetype": "text/x-python",
   "name": "python",
   "nbconvert_exporter": "python",
   "pygments_lexer": "ipython3",
   "version": "3.11.3"
  }
 },
 "nbformat": 4,
 "nbformat_minor": 2
}
